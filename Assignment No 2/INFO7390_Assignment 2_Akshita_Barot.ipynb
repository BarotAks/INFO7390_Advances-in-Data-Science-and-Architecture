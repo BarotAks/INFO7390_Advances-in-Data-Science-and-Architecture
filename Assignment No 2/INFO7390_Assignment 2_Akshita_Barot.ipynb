{
 "cells": [
  {
   "cell_type": "markdown",
   "id": "ee81ce44",
   "metadata": {},
   "source": [
    "## Module import, data input and cleaning "
   ]
  },
  {
   "cell_type": "code",
   "execution_count": 1,
   "id": "981c39da",
   "metadata": {},
   "outputs": [],
   "source": [
    "import pandas as pd\n",
    "import numpy as np\n",
    "import matplotlib.pyplot as plt\n",
    "import seaborn as sns\n",
    "import copy\n",
    "np.random.seed(40) # seting a seed for constant result\n",
    "%matplotlib inline\n",
    "import warnings\n",
    "warnings.filterwarnings('ignore')"
   ]
  },
  {
   "cell_type": "code",
   "execution_count": 2,
   "id": "fdd39e43",
   "metadata": {},
   "outputs": [
    {
     "data": {
      "text/plain": [
       "'C:\\\\Users\\\\akshi\\\\Downloads\\\\ADS'"
      ]
     },
     "execution_count": 2,
     "metadata": {},
     "output_type": "execute_result"
    }
   ],
   "source": [
    "%pwd"
   ]
  },
  {
   "cell_type": "code",
   "execution_count": 3,
   "id": "acde96af",
   "metadata": {},
   "outputs": [
    {
     "name": "stdout",
     "output_type": "stream",
     "text": [
      " Volume in drive C is OS\n",
      " Volume Serial Number is 5EA2-B96D\n",
      "\n",
      " Directory of C:\\Users\\akshi\\Downloads\\ADS\n",
      "\n",
      "08/02/2023  07:39 PM    <DIR>          .\n",
      "08/02/2023  07:22 PM    <DIR>          ..\n",
      "08/02/2023  12:50 AM    <DIR>          .ipynb_checkpoints\n",
      "07/05/2023  02:08 AM         1,120,695 ADS Assignment 1.ipynb\n",
      "08/02/2023  02:52 PM             3,258 gender_submission.csv\n",
      "07/05/2023  07:10 PM         2,974,991 INFO7390_Assignment 1_Akshita_Barot.ipynb\n",
      "08/02/2023  07:39 PM            85,267 INFO7390_Assignment 2_Akshita_Barot.ipynb\n",
      "07/05/2023  06:51 PM         3,002,388 K Means basics-1.ipynb\n",
      "07/04/2023  11:25 PM        23,715,248 Online Retail-1.xlsx\n",
      "08/02/2023  02:52 PM            28,629 test.csv\n",
      "08/02/2023  02:52 PM            61,194 train.csv\n",
      "               8 File(s)     30,991,670 bytes\n",
      "               3 Dir(s)  78,452,092,928 bytes free\n"
     ]
    }
   ],
   "source": [
    "%ls"
   ]
  },
  {
   "cell_type": "markdown",
   "id": "345a7194",
   "metadata": {},
   "source": [
    "### Read the data"
   ]
  },
  {
   "cell_type": "code",
   "execution_count": 4,
   "id": "bb831974",
   "metadata": {},
   "outputs": [],
   "source": [
    "'''Loading the CSV file. Dataset used from Kaggle - https://www.kaggle.com/competitions/titanic/data?select=test.csv '''\n",
    "\n",
    "df = pd.read_csv(\"train.csv\")"
   ]
  },
  {
   "cell_type": "code",
   "execution_count": 5,
   "id": "bc866f68",
   "metadata": {},
   "outputs": [
    {
     "name": "stdout",
     "output_type": "stream",
     "text": [
      "(891, 12)\n"
     ]
    },
    {
     "data": {
      "text/html": [
       "<div>\n",
       "<style scoped>\n",
       "    .dataframe tbody tr th:only-of-type {\n",
       "        vertical-align: middle;\n",
       "    }\n",
       "\n",
       "    .dataframe tbody tr th {\n",
       "        vertical-align: top;\n",
       "    }\n",
       "\n",
       "    .dataframe thead th {\n",
       "        text-align: right;\n",
       "    }\n",
       "</style>\n",
       "<table border=\"1\" class=\"dataframe\">\n",
       "  <thead>\n",
       "    <tr style=\"text-align: right;\">\n",
       "      <th></th>\n",
       "      <th>PassengerId</th>\n",
       "      <th>Survived</th>\n",
       "      <th>Pclass</th>\n",
       "      <th>Name</th>\n",
       "      <th>Sex</th>\n",
       "      <th>Age</th>\n",
       "      <th>SibSp</th>\n",
       "      <th>Parch</th>\n",
       "      <th>Ticket</th>\n",
       "      <th>Fare</th>\n",
       "      <th>Cabin</th>\n",
       "      <th>Embarked</th>\n",
       "    </tr>\n",
       "  </thead>\n",
       "  <tbody>\n",
       "    <tr>\n",
       "      <th>0</th>\n",
       "      <td>1</td>\n",
       "      <td>0</td>\n",
       "      <td>3</td>\n",
       "      <td>Braund, Mr. Owen Harris</td>\n",
       "      <td>male</td>\n",
       "      <td>22.0</td>\n",
       "      <td>1</td>\n",
       "      <td>0</td>\n",
       "      <td>A/5 21171</td>\n",
       "      <td>7.2500</td>\n",
       "      <td>NaN</td>\n",
       "      <td>S</td>\n",
       "    </tr>\n",
       "    <tr>\n",
       "      <th>1</th>\n",
       "      <td>2</td>\n",
       "      <td>1</td>\n",
       "      <td>1</td>\n",
       "      <td>Cumings, Mrs. John Bradley (Florence Briggs Th...</td>\n",
       "      <td>female</td>\n",
       "      <td>38.0</td>\n",
       "      <td>1</td>\n",
       "      <td>0</td>\n",
       "      <td>PC 17599</td>\n",
       "      <td>71.2833</td>\n",
       "      <td>C85</td>\n",
       "      <td>C</td>\n",
       "    </tr>\n",
       "    <tr>\n",
       "      <th>2</th>\n",
       "      <td>3</td>\n",
       "      <td>1</td>\n",
       "      <td>3</td>\n",
       "      <td>Heikkinen, Miss. Laina</td>\n",
       "      <td>female</td>\n",
       "      <td>26.0</td>\n",
       "      <td>0</td>\n",
       "      <td>0</td>\n",
       "      <td>STON/O2. 3101282</td>\n",
       "      <td>7.9250</td>\n",
       "      <td>NaN</td>\n",
       "      <td>S</td>\n",
       "    </tr>\n",
       "    <tr>\n",
       "      <th>3</th>\n",
       "      <td>4</td>\n",
       "      <td>1</td>\n",
       "      <td>1</td>\n",
       "      <td>Futrelle, Mrs. Jacques Heath (Lily May Peel)</td>\n",
       "      <td>female</td>\n",
       "      <td>35.0</td>\n",
       "      <td>1</td>\n",
       "      <td>0</td>\n",
       "      <td>113803</td>\n",
       "      <td>53.1000</td>\n",
       "      <td>C123</td>\n",
       "      <td>S</td>\n",
       "    </tr>\n",
       "    <tr>\n",
       "      <th>4</th>\n",
       "      <td>5</td>\n",
       "      <td>0</td>\n",
       "      <td>3</td>\n",
       "      <td>Allen, Mr. William Henry</td>\n",
       "      <td>male</td>\n",
       "      <td>35.0</td>\n",
       "      <td>0</td>\n",
       "      <td>0</td>\n",
       "      <td>373450</td>\n",
       "      <td>8.0500</td>\n",
       "      <td>NaN</td>\n",
       "      <td>S</td>\n",
       "    </tr>\n",
       "  </tbody>\n",
       "</table>\n",
       "</div>"
      ],
      "text/plain": [
       "   PassengerId  Survived  Pclass  \\\n",
       "0            1         0       3   \n",
       "1            2         1       1   \n",
       "2            3         1       3   \n",
       "3            4         1       1   \n",
       "4            5         0       3   \n",
       "\n",
       "                                                Name     Sex   Age  SibSp  \\\n",
       "0                            Braund, Mr. Owen Harris    male  22.0      1   \n",
       "1  Cumings, Mrs. John Bradley (Florence Briggs Th...  female  38.0      1   \n",
       "2                             Heikkinen, Miss. Laina  female  26.0      0   \n",
       "3       Futrelle, Mrs. Jacques Heath (Lily May Peel)  female  35.0      1   \n",
       "4                           Allen, Mr. William Henry    male  35.0      0   \n",
       "\n",
       "   Parch            Ticket     Fare Cabin Embarked  \n",
       "0      0         A/5 21171   7.2500   NaN        S  \n",
       "1      0          PC 17599  71.2833   C85        C  \n",
       "2      0  STON/O2. 3101282   7.9250   NaN        S  \n",
       "3      0            113803  53.1000  C123        S  \n",
       "4      0            373450   8.0500   NaN        S  "
      ]
     },
     "execution_count": 5,
     "metadata": {},
     "output_type": "execute_result"
    }
   ],
   "source": [
    "print(df.shape)\n",
    "df.head()"
   ]
  },
  {
   "cell_type": "code",
   "execution_count": 6,
   "id": "2d25a90c",
   "metadata": {},
   "outputs": [
    {
     "name": "stdout",
     "output_type": "stream",
     "text": [
      "<class 'pandas.core.frame.DataFrame'>\n",
      "RangeIndex: 891 entries, 0 to 890\n",
      "Data columns (total 12 columns):\n",
      " #   Column       Non-Null Count  Dtype  \n",
      "---  ------       --------------  -----  \n",
      " 0   PassengerId  891 non-null    int64  \n",
      " 1   Survived     891 non-null    int64  \n",
      " 2   Pclass       891 non-null    int64  \n",
      " 3   Name         891 non-null    object \n",
      " 4   Sex          891 non-null    object \n",
      " 5   Age          714 non-null    float64\n",
      " 6   SibSp        891 non-null    int64  \n",
      " 7   Parch        891 non-null    int64  \n",
      " 8   Ticket       891 non-null    object \n",
      " 9   Fare         891 non-null    float64\n",
      " 10  Cabin        204 non-null    object \n",
      " 11  Embarked     889 non-null    object \n",
      "dtypes: float64(2), int64(5), object(5)\n",
      "memory usage: 83.7+ KB\n"
     ]
    }
   ],
   "source": [
    "df.info()"
   ]
  },
  {
   "cell_type": "code",
   "execution_count": 7,
   "id": "7c2d17d2",
   "metadata": {},
   "outputs": [
    {
     "data": {
      "image/png": "[encoded data removed]",
      "text/plain": [
       "<Figure size 800x1000 with 1 Axes>"
      ]
     },
     "metadata": {},
     "output_type": "display_data"
    }
   ],
   "source": [
    "'''Calculating the percentage of null values for each column'''\n",
    "\n",
    "null_vals = df.isnull().sum()/len(df)*100\n",
    "null_vals = pd.DataFrame(null_vals)\n",
    "null_vals.reset_index(inplace = True)\n",
    "null_vals.columns = [\"Feature\", \"Percent missing\"]\n",
    "plt.figure(figsize =  (8,10))\n",
    "plt.xticks(rotation = 45)\n",
    "sns.barplot(x = \"Percent missing\", y = \"Feature\", data = null_vals, orient = \"h\")\n",
    "plt.xlabel(\"Percentage of Missing Values\")\n",
    "plt.ylabel(\"Features\")\n",
    "plt.title(\"Percentage of Missing Values in Each Feature\")\n",
    "\n",
    "\n",
    "plt.show()"
   ]
  },
  {
   "cell_type": "code",
   "execution_count": 8,
   "id": "88eae3a6",
   "metadata": {},
   "outputs": [
    {
     "data": {
      "text/plain": [
       "(185, 12)"
      ]
     },
     "execution_count": 8,
     "metadata": {},
     "output_type": "execute_result"
    }
   ],
   "source": [
    "'''Dropping rows with null values'''\n",
    "\n",
    "df1 = df.dropna(subset =[\"Age\", \"Cabin\"])\n",
    "df1.shape"
   ]
  },
  {
   "cell_type": "code",
   "execution_count": 9,
   "id": "c3bc3f31",
   "metadata": {},
   "outputs": [
    {
     "name": "stdout",
     "output_type": "stream",
     "text": [
      "(185, 12)\n"
     ]
    },
    {
     "data": {
      "text/html": [
       "<div>\n",
       "<style scoped>\n",
       "    .dataframe tbody tr th:only-of-type {\n",
       "        vertical-align: middle;\n",
       "    }\n",
       "\n",
       "    .dataframe tbody tr th {\n",
       "        vertical-align: top;\n",
       "    }\n",
       "\n",
       "    .dataframe thead th {\n",
       "        text-align: right;\n",
       "    }\n",
       "</style>\n",
       "<table border=\"1\" class=\"dataframe\">\n",
       "  <thead>\n",
       "    <tr style=\"text-align: right;\">\n",
       "      <th></th>\n",
       "      <th>PassengerId</th>\n",
       "      <th>Survived</th>\n",
       "      <th>Pclass</th>\n",
       "      <th>Name</th>\n",
       "      <th>Sex</th>\n",
       "      <th>Age</th>\n",
       "      <th>SibSp</th>\n",
       "      <th>Parch</th>\n",
       "      <th>Ticket</th>\n",
       "      <th>Fare</th>\n",
       "      <th>Cabin</th>\n",
       "      <th>Embarked</th>\n",
       "    </tr>\n",
       "  </thead>\n",
       "  <tbody>\n",
       "    <tr>\n",
       "      <th>1</th>\n",
       "      <td>2</td>\n",
       "      <td>1</td>\n",
       "      <td>1</td>\n",
       "      <td>Cumings, Mrs. John Bradley (Florence Briggs Th...</td>\n",
       "      <td>female</td>\n",
       "      <td>38.0</td>\n",
       "      <td>1</td>\n",
       "      <td>0</td>\n",
       "      <td>PC 17599</td>\n",
       "      <td>71.2833</td>\n",
       "      <td>C85</td>\n",
       "      <td>C</td>\n",
       "    </tr>\n",
       "    <tr>\n",
       "      <th>3</th>\n",
       "      <td>4</td>\n",
       "      <td>1</td>\n",
       "      <td>1</td>\n",
       "      <td>Futrelle, Mrs. Jacques Heath (Lily May Peel)</td>\n",
       "      <td>female</td>\n",
       "      <td>35.0</td>\n",
       "      <td>1</td>\n",
       "      <td>0</td>\n",
       "      <td>113803</td>\n",
       "      <td>53.1000</td>\n",
       "      <td>C123</td>\n",
       "      <td>S</td>\n",
       "    </tr>\n",
       "  </tbody>\n",
       "</table>\n",
       "</div>"
      ],
      "text/plain": [
       "   PassengerId  Survived  Pclass  \\\n",
       "1            2         1       1   \n",
       "3            4         1       1   \n",
       "\n",
       "                                                Name     Sex   Age  SibSp  \\\n",
       "1  Cumings, Mrs. John Bradley (Florence Briggs Th...  female  38.0      1   \n",
       "3       Futrelle, Mrs. Jacques Heath (Lily May Peel)  female  35.0      1   \n",
       "\n",
       "   Parch    Ticket     Fare Cabin Embarked  \n",
       "1      0  PC 17599  71.2833   C85        C  \n",
       "3      0    113803  53.1000  C123        S  "
      ]
     },
     "execution_count": 9,
     "metadata": {},
     "output_type": "execute_result"
    }
   ],
   "source": [
    "'''Removing all duplicate values from the dataset'''\n",
    "\n",
    "df2 = df1.drop_duplicates()\n",
    "print(df2.shape)\n",
    "df2.head(2)"
   ]
  },
  {
   "cell_type": "markdown",
   "id": "67da1dfb",
   "metadata": {},
   "source": [
    "#### Feature Engineering"
   ]
  },
  {
   "cell_type": "code",
   "execution_count": 10,
   "id": "716e1407",
   "metadata": {},
   "outputs": [
    {
     "data": {
      "text/html": [
       "<div>\n",
       "<style scoped>\n",
       "    .dataframe tbody tr th:only-of-type {\n",
       "        vertical-align: middle;\n",
       "    }\n",
       "\n",
       "    .dataframe tbody tr th {\n",
       "        vertical-align: top;\n",
       "    }\n",
       "\n",
       "    .dataframe thead th {\n",
       "        text-align: right;\n",
       "    }\n",
       "</style>\n",
       "<table border=\"1\" class=\"dataframe\">\n",
       "  <thead>\n",
       "    <tr style=\"text-align: right;\">\n",
       "      <th></th>\n",
       "      <th>PassengerId</th>\n",
       "      <th>Survived</th>\n",
       "      <th>Pclass</th>\n",
       "      <th>Name</th>\n",
       "      <th>Sex</th>\n",
       "      <th>Age</th>\n",
       "      <th>SibSp</th>\n",
       "      <th>Parch</th>\n",
       "      <th>Ticket</th>\n",
       "      <th>Fare</th>\n",
       "      <th>Cabin</th>\n",
       "      <th>Embarked</th>\n",
       "    </tr>\n",
       "  </thead>\n",
       "  <tbody>\n",
       "    <tr>\n",
       "      <th>1</th>\n",
       "      <td>2</td>\n",
       "      <td>1</td>\n",
       "      <td>1</td>\n",
       "      <td>Cumings, Mrs. John Bradley (Florence Briggs Th...</td>\n",
       "      <td>0</td>\n",
       "      <td>38.0</td>\n",
       "      <td>1</td>\n",
       "      <td>0</td>\n",
       "      <td>PC 17599</td>\n",
       "      <td>71.2833</td>\n",
       "      <td>C85</td>\n",
       "      <td>C</td>\n",
       "    </tr>\n",
       "    <tr>\n",
       "      <th>3</th>\n",
       "      <td>4</td>\n",
       "      <td>1</td>\n",
       "      <td>1</td>\n",
       "      <td>Futrelle, Mrs. Jacques Heath (Lily May Peel)</td>\n",
       "      <td>0</td>\n",
       "      <td>35.0</td>\n",
       "      <td>1</td>\n",
       "      <td>0</td>\n",
       "      <td>113803</td>\n",
       "      <td>53.1000</td>\n",
       "      <td>C123</td>\n",
       "      <td>S</td>\n",
       "    </tr>\n",
       "    <tr>\n",
       "      <th>6</th>\n",
       "      <td>7</td>\n",
       "      <td>0</td>\n",
       "      <td>1</td>\n",
       "      <td>McCarthy, Mr. Timothy J</td>\n",
       "      <td>1</td>\n",
       "      <td>54.0</td>\n",
       "      <td>0</td>\n",
       "      <td>0</td>\n",
       "      <td>17463</td>\n",
       "      <td>51.8625</td>\n",
       "      <td>E46</td>\n",
       "      <td>S</td>\n",
       "    </tr>\n",
       "    <tr>\n",
       "      <th>10</th>\n",
       "      <td>11</td>\n",
       "      <td>1</td>\n",
       "      <td>3</td>\n",
       "      <td>Sandstrom, Miss. Marguerite Rut</td>\n",
       "      <td>0</td>\n",
       "      <td>4.0</td>\n",
       "      <td>1</td>\n",
       "      <td>1</td>\n",
       "      <td>PP 9549</td>\n",
       "      <td>16.7000</td>\n",
       "      <td>G6</td>\n",
       "      <td>S</td>\n",
       "    </tr>\n",
       "    <tr>\n",
       "      <th>11</th>\n",
       "      <td>12</td>\n",
       "      <td>1</td>\n",
       "      <td>1</td>\n",
       "      <td>Bonnell, Miss. Elizabeth</td>\n",
       "      <td>0</td>\n",
       "      <td>58.0</td>\n",
       "      <td>0</td>\n",
       "      <td>0</td>\n",
       "      <td>113783</td>\n",
       "      <td>26.5500</td>\n",
       "      <td>C103</td>\n",
       "      <td>S</td>\n",
       "    </tr>\n",
       "  </tbody>\n",
       "</table>\n",
       "</div>"
      ],
      "text/plain": [
       "    PassengerId  Survived  Pclass  \\\n",
       "1             2         1       1   \n",
       "3             4         1       1   \n",
       "6             7         0       1   \n",
       "10           11         1       3   \n",
       "11           12         1       1   \n",
       "\n",
       "                                                 Name  Sex   Age  SibSp  \\\n",
       "1   Cumings, Mrs. John Bradley (Florence Briggs Th...    0  38.0      1   \n",
       "3        Futrelle, Mrs. Jacques Heath (Lily May Peel)    0  35.0      1   \n",
       "6                             McCarthy, Mr. Timothy J    1  54.0      0   \n",
       "10                    Sandstrom, Miss. Marguerite Rut    0   4.0      1   \n",
       "11                           Bonnell, Miss. Elizabeth    0  58.0      0   \n",
       "\n",
       "    Parch    Ticket     Fare Cabin Embarked  \n",
       "1       0  PC 17599  71.2833   C85        C  \n",
       "3       0    113803  53.1000  C123        S  \n",
       "6       0     17463  51.8625   E46        S  \n",
       "10      1   PP 9549  16.7000    G6        S  \n",
       "11      0    113783  26.5500  C103        S  "
      ]
     },
     "execution_count": 10,
     "metadata": {},
     "output_type": "execute_result"
    }
   ],
   "source": [
    "'''Coverting \"Sex\" to Binary where Male -1 and Female - 0'''\n",
    "\n",
    "df2['Sex'] = np.where(df2['Sex']== 'male',1,0)\n",
    "df2.head(5)"
   ]
  },
  {
   "cell_type": "code",
   "execution_count": 11,
   "id": "a9a3729d",
   "metadata": {},
   "outputs": [
    {
     "data": {
      "text/html": [
       "<div>\n",
       "<style scoped>\n",
       "    .dataframe tbody tr th:only-of-type {\n",
       "        vertical-align: middle;\n",
       "    }\n",
       "\n",
       "    .dataframe tbody tr th {\n",
       "        vertical-align: top;\n",
       "    }\n",
       "\n",
       "    .dataframe thead th {\n",
       "        text-align: right;\n",
       "    }\n",
       "</style>\n",
       "<table border=\"1\" class=\"dataframe\">\n",
       "  <thead>\n",
       "    <tr style=\"text-align: right;\">\n",
       "      <th></th>\n",
       "      <th>PassengerId</th>\n",
       "      <th>Survived</th>\n",
       "      <th>Pclass</th>\n",
       "      <th>Sex</th>\n",
       "      <th>Age</th>\n",
       "      <th>SibSp</th>\n",
       "      <th>Parch</th>\n",
       "      <th>Fare</th>\n",
       "      <th>Embarked</th>\n",
       "    </tr>\n",
       "  </thead>\n",
       "  <tbody>\n",
       "    <tr>\n",
       "      <th>1</th>\n",
       "      <td>2</td>\n",
       "      <td>1</td>\n",
       "      <td>1</td>\n",
       "      <td>0</td>\n",
       "      <td>38.0</td>\n",
       "      <td>1</td>\n",
       "      <td>0</td>\n",
       "      <td>71.2833</td>\n",
       "      <td>C</td>\n",
       "    </tr>\n",
       "    <tr>\n",
       "      <th>3</th>\n",
       "      <td>4</td>\n",
       "      <td>1</td>\n",
       "      <td>1</td>\n",
       "      <td>0</td>\n",
       "      <td>35.0</td>\n",
       "      <td>1</td>\n",
       "      <td>0</td>\n",
       "      <td>53.1000</td>\n",
       "      <td>S</td>\n",
       "    </tr>\n",
       "    <tr>\n",
       "      <th>6</th>\n",
       "      <td>7</td>\n",
       "      <td>0</td>\n",
       "      <td>1</td>\n",
       "      <td>1</td>\n",
       "      <td>54.0</td>\n",
       "      <td>0</td>\n",
       "      <td>0</td>\n",
       "      <td>51.8625</td>\n",
       "      <td>S</td>\n",
       "    </tr>\n",
       "    <tr>\n",
       "      <th>10</th>\n",
       "      <td>11</td>\n",
       "      <td>1</td>\n",
       "      <td>3</td>\n",
       "      <td>0</td>\n",
       "      <td>4.0</td>\n",
       "      <td>1</td>\n",
       "      <td>1</td>\n",
       "      <td>16.7000</td>\n",
       "      <td>S</td>\n",
       "    </tr>\n",
       "    <tr>\n",
       "      <th>11</th>\n",
       "      <td>12</td>\n",
       "      <td>1</td>\n",
       "      <td>1</td>\n",
       "      <td>0</td>\n",
       "      <td>58.0</td>\n",
       "      <td>0</td>\n",
       "      <td>0</td>\n",
       "      <td>26.5500</td>\n",
       "      <td>S</td>\n",
       "    </tr>\n",
       "    <tr>\n",
       "      <th>...</th>\n",
       "      <td>...</td>\n",
       "      <td>...</td>\n",
       "      <td>...</td>\n",
       "      <td>...</td>\n",
       "      <td>...</td>\n",
       "      <td>...</td>\n",
       "      <td>...</td>\n",
       "      <td>...</td>\n",
       "      <td>...</td>\n",
       "    </tr>\n",
       "    <tr>\n",
       "      <th>871</th>\n",
       "      <td>872</td>\n",
       "      <td>1</td>\n",
       "      <td>1</td>\n",
       "      <td>0</td>\n",
       "      <td>47.0</td>\n",
       "      <td>1</td>\n",
       "      <td>1</td>\n",
       "      <td>52.5542</td>\n",
       "      <td>S</td>\n",
       "    </tr>\n",
       "    <tr>\n",
       "      <th>872</th>\n",
       "      <td>873</td>\n",
       "      <td>0</td>\n",
       "      <td>1</td>\n",
       "      <td>1</td>\n",
       "      <td>33.0</td>\n",
       "      <td>0</td>\n",
       "      <td>0</td>\n",
       "      <td>5.0000</td>\n",
       "      <td>S</td>\n",
       "    </tr>\n",
       "    <tr>\n",
       "      <th>879</th>\n",
       "      <td>880</td>\n",
       "      <td>1</td>\n",
       "      <td>1</td>\n",
       "      <td>0</td>\n",
       "      <td>56.0</td>\n",
       "      <td>0</td>\n",
       "      <td>1</td>\n",
       "      <td>83.1583</td>\n",
       "      <td>C</td>\n",
       "    </tr>\n",
       "    <tr>\n",
       "      <th>887</th>\n",
       "      <td>888</td>\n",
       "      <td>1</td>\n",
       "      <td>1</td>\n",
       "      <td>0</td>\n",
       "      <td>19.0</td>\n",
       "      <td>0</td>\n",
       "      <td>0</td>\n",
       "      <td>30.0000</td>\n",
       "      <td>S</td>\n",
       "    </tr>\n",
       "    <tr>\n",
       "      <th>889</th>\n",
       "      <td>890</td>\n",
       "      <td>1</td>\n",
       "      <td>1</td>\n",
       "      <td>1</td>\n",
       "      <td>26.0</td>\n",
       "      <td>0</td>\n",
       "      <td>0</td>\n",
       "      <td>30.0000</td>\n",
       "      <td>C</td>\n",
       "    </tr>\n",
       "  </tbody>\n",
       "</table>\n",
       "<p>185 rows × 9 columns</p>\n",
       "</div>"
      ],
      "text/plain": [
       "     PassengerId  Survived  Pclass  Sex   Age  SibSp  Parch     Fare Embarked\n",
       "1              2         1       1    0  38.0      1      0  71.2833        C\n",
       "3              4         1       1    0  35.0      1      0  53.1000        S\n",
       "6              7         0       1    1  54.0      0      0  51.8625        S\n",
       "10            11         1       3    0   4.0      1      1  16.7000        S\n",
       "11            12         1       1    0  58.0      0      0  26.5500        S\n",
       "..           ...       ...     ...  ...   ...    ...    ...      ...      ...\n",
       "871          872         1       1    0  47.0      1      1  52.5542        S\n",
       "872          873         0       1    1  33.0      0      0   5.0000        S\n",
       "879          880         1       1    0  56.0      0      1  83.1583        C\n",
       "887          888         1       1    0  19.0      0      0  30.0000        S\n",
       "889          890         1       1    1  26.0      0      0  30.0000        C\n",
       "\n",
       "[185 rows x 9 columns]"
      ]
     },
     "execution_count": 11,
     "metadata": {},
     "output_type": "execute_result"
    }
   ],
   "source": [
    "'''Dropping the columns that are not required'''\n",
    "\n",
    "df2.drop(columns =['Name','Ticket','Cabin'])"
   ]
  },
  {
   "cell_type": "code",
   "execution_count": 12,
   "id": "17115ad5",
   "metadata": {},
   "outputs": [],
   "source": [
    "'''Converting the dataframe to array'''\n",
    "\n",
    "X = np.array(df2.loc[:,list(set(df2.columns) -set(['Embarked']))])\n",
    "y = np.array(df2.loc[:, 'Embarked'])"
   ]
  },
  {
   "cell_type": "code",
   "execution_count": 13,
   "id": "1aab5ad0",
   "metadata": {},
   "outputs": [],
   "source": [
    "'''Label Encoding'''\n",
    "\n",
    "from numpy import copy as cp\n",
    "d= {'C':0,'S':1,'Q':2} # Map categorical values to numerical values\n",
    "Y = cp(y) # Creating a deepcopy of the Embarked column\n",
    "for k,v in d.items():  # label encode the column by Replacing categorical values with numerical\n",
    "    Y[y==k] = v "
   ]
  },
  {
   "cell_type": "code",
   "execution_count": 14,
   "id": "1979a138",
   "metadata": {},
   "outputs": [
    {
     "name": "stdout",
     "output_type": "stream",
     "text": [
      "The shape of X is: (11, 185)\n",
      "The shape of Y is: (1, 185)\n"
     ]
    }
   ],
   "source": [
    "X = copy.deepcopy(X.T) # Deepcopy the feature matrix X,traget vector Y and transpose it to have the shape\n",
    "Y = copy.deepcopy(Y.reshape(-1,1).T)\n",
    "\n",
    "'''Geting the shape'''\n",
    "\n",
    "shape_X = X.shape\n",
    "shape_Y = Y.shape\n",
    "\n",
    "print(\"The shape of X is: \"+str(shape_X))\n",
    "print(\"The shape of Y is: \"+str(shape_Y))"
   ]
  },
  {
   "cell_type": "markdown",
   "id": "37b3e583",
   "metadata": {},
   "source": [
    "## Implementation of logistic regression unit "
   ]
  },
  {
   "cell_type": "code",
   "execution_count": 15,
   "id": "50134eeb",
   "metadata": {},
   "outputs": [
    {
     "name": "stdout",
     "output_type": "stream",
     "text": [
      "The size of the input layer is: training_size = 2\n",
      "The size of the hidden layer is: num_hidden_layers = 1\n",
      "The size of the output layer is: output_size = 1\n"
     ]
    }
   ],
   "source": [
    "def layer_shapes(X, Y, num_hidden_layers = 1):\n",
    "    training_size = X.shape[0]   #Size of the input layer\n",
    "    num_hidden_layers = num_hidden_layers  # Number of hidden layer in the neural network\n",
    "    output_size = Y.reshape(-1,1).T.shape[0]  # Size of the output layer\n",
    "    return (training_size,num_hidden_layers,output_size)\n",
    "\n",
    "# Generate synthetic data with 2 classes and 2 features\n",
    "N=400\n",
    "D=2\n",
    "K=2\n",
    "\n",
    "X = np.zeros((N * K, D))\n",
    "Y = np.zeros(N*K,dtype = 'int')\n",
    "for j in range(K):\n",
    "    ix = range(N *j, N*(j+1))\n",
    "    r = np.linspace(0,1,N)\n",
    "    t = np.linspace(j *4.2, (j+1)*4.2,N) + np.random.randn(N) *0.2 # theta\n",
    "    X[ix] = np.c_[r *np.sin(t), r* np.cos(t)]\n",
    "    Y[ix] = (0 if j % 2 == 0 else 1)\n",
    "\n",
    "X = copy.deepcopy(X.T)\n",
    "Y = copy.deepcopy(Y.reshape(-1,1).T)\n",
    "\n",
    "(training_size,num_hidden_layers,output_size) = layer_shapes(X,Y)\n",
    "\n",
    "print(\"The size of the input layer is: training_size = \"+str(training_size))\n",
    "print(\"The size of the hidden layer is: num_hidden_layers = \"+str(num_hidden_layers))\n",
    "print(\"The size of the output layer is: output_size = \"+str(output_size))\n"
   ]
  },
  {
   "cell_type": "code",
   "execution_count": 16,
   "id": "687c8049",
   "metadata": {},
   "outputs": [],
   "source": [
    "def initialize_parameters(training_size,num_hidden_layers,output_size):\n",
    "    \n",
    "    np.random.seed(40)\n",
    "    # Initialize the weights and biases for the hidden layer\n",
    "    W1 = np.random.randn(num_hidden_layers,training_size) * 0.01\n",
    "    b1 = np.zeros((num_hidden_layers,1))\n",
    "    \n",
    "    # Initialize the weights and biases for the output layer\n",
    "    W2 = np.random.randn(output_size,num_hidden_layers) * 0.01\n",
    "    b2 = np.zeros((output_size,1))\n",
    "    # Check if the shapes are correct\n",
    "    assert (W1.shape == (num_hidden_layers,training_size))\n",
    "    assert (b1.shape == (num_hidden_layers,1))\n",
    "    assert (W2.shape == (output_size,num_hidden_layers))\n",
    "    assert (b2.shape == (output_size,1))\n",
    "    \n",
    "    parameters = {\"W1\":W1,\"b1\":b1,\"W2\":W2,\"b2\":b2}\n",
    "    \n",
    "    return parameters"
   ]
  },
  {
   "cell_type": "markdown",
   "id": "d815691f",
   "metadata": {},
   "source": [
    "### Activating Function with ReLU and tan"
   ]
  },
  {
   "cell_type": "code",
   "execution_count": 17,
   "id": "8a20ad0e",
   "metadata": {},
   "outputs": [],
   "source": [
    "'''Compute the ReLU function for each element in the input array'''\n",
    "\n",
    "def relu(x):\n",
    "    z=[]\n",
    "    for k in x:\n",
    "        t=[]\n",
    "        for i in k:\n",
    "            t.append(max(0,i))\n",
    "        z.append(t)\n",
    "    z=np.array(z)\n",
    "    z = 1/(1 + np.exp(-z))\n",
    "    return z"
   ]
  },
  {
   "cell_type": "code",
   "execution_count": 18,
   "id": "9f079ac6",
   "metadata": {},
   "outputs": [],
   "source": [
    "'''Performing forward propagation through the neural networl'''\n",
    "\n",
    "def forward_propagation(X, parameters):\n",
    "    # Extract weights and biases from the parameters dictionary\n",
    "    W1 = parameters['W1']\n",
    "    b1 = parameters['b1']\n",
    "    W2 = parameters['W2']\n",
    "    b2 = parameters['b2']\n",
    "    #Implement the forward propagation\n",
    "    #Calculate the input to the hidden layer\n",
    "    Z1 = np.dot(W1,X) +b1\n",
    "    \n",
    "    # Appling the activation function to the hidden layer - using tanh activation\n",
    "    A1 = np.tanh(Z1)\n",
    "    # Calculate the input to the output layer\n",
    "    Z2 = np.dot(W2,A1) +b2\n",
    "    \n",
    "    # Applying the activation function to the output layer - using ReLU activation\n",
    "    A2 = relu(Z2)\n",
    "    \n",
    "    # Checking the shape of the output(predictions)\n",
    "    assert(A2.shape == (1,X.shape[1]))\n",
    "    #Storing values for later use in bp\n",
    "    cache = {\"Z1\":Z1,\"A1\": A1, \"Z2\": Z2, \"A2\": A2}\n",
    "    \n",
    "    return A2, cache"
   ]
  },
  {
   "cell_type": "markdown",
   "id": "bf704002",
   "metadata": {},
   "source": [
    "### Log Loss Function"
   ]
  },
  {
   "cell_type": "code",
   "execution_count": 19,
   "id": "3b1975c0",
   "metadata": {},
   "outputs": [],
   "source": [
    "'''Computes the cost for the predictions A2 and true labesl Y'''\n",
    "def compute_cost(A2,Y):\n",
    "    m = Y.shape[1]\n",
    "    # compute the cross-entropy cost\n",
    "    #logprobs = Y *log(A2) + (1 -Y) * log(1-A2)\n",
    "    logprobs = np.dot(Y,np.log(A2).T) + np.dot((1-Y), np.log((1-A2)).T)\n",
    "    cost = -logprobs/m\n",
    "    \n",
    "    cost = float(np.squeeze(cost)) #convert cost to float\n",
    "    assert(isinstance(cost,float)) # check if cost is float\n",
    "    return cost\n"
   ]
  },
  {
   "cell_type": "code",
   "execution_count": 20,
   "id": "b212a42d",
   "metadata": {},
   "outputs": [],
   "source": [
    "'''Performing back propagation to compute gradients of the cost wrt parameters'''\n",
    "def back_propagation(parameters,cache,X,Y):\n",
    "    m = X.shape[1]\n",
    "    #extract weights and biases, values from the parameter dictionary\n",
    "    W1 = parameters['W1']\n",
    "    W2 = parameters['W2']\n",
    "    \n",
    "    A1 = cache['A1']\n",
    "    A2 = cache['A2']\n",
    "    # Backward propagation - calulate the gradients \n",
    "    dZ2 = A2 - Y\n",
    "    dW2 = (1/m) * np.dot(dZ2, A1.T)\n",
    "    db2 = (1/m) * np.sum(dZ2, axis=1, keepdims=True)\n",
    "    dZ1 = np.dot(W2.T,dZ2) * (1-np.power(A1,2))\n",
    "    dW1 = (1/m) * np.dot(dZ1, X.T)\n",
    "    db1 = (1/m) * np.sum(dZ1, axis=1, keepdims=True)\n",
    "    \n",
    "    grads = {\"dW1\": dW1,\"db1\": db1,\"dW2\":dW2, \"db2\":db2}\n",
    "    \n",
    "    return grads"
   ]
  },
  {
   "cell_type": "code",
   "execution_count": 21,
   "id": "33b2a434",
   "metadata": {},
   "outputs": [],
   "source": [
    "'''Updating the parameters'''\n",
    "def update_parameters(parameters, grads, learning_rate = 1.2):\n",
    "    W1 = parameters['W1']\n",
    "    b1 = parameters['b1']\n",
    "    W2 = parameters['W2']\n",
    "    b2 = parameters['b2']\n",
    "\n",
    "    dW1 = grads['dW1']\n",
    "    db1 = grads['db1']\n",
    "    dW2 = grads['dW2']\n",
    "    db2 = grads['db2']\n",
    "    \n",
    "    #Update the rule for each parameter\n",
    "    W1 = W1 - learning_rate*dW1\n",
    "    b1 = b1 - learning_rate*db1\n",
    "    W2 = W2 - learning_rate*dW2\n",
    "    b2 = b2 - learning_rate*db2\n",
    "    \n",
    "    # storing updated parameters in new dictionary\n",
    "    parameters = {\"W1\":W1,\"b1\":b1,\"W2\":W2,\"b2\":b2}\n",
    "    \n",
    "    return parameters"
   ]
  },
  {
   "cell_type": "markdown",
   "id": "8abc9bfa",
   "metadata": {},
   "source": [
    "### Scholastic gradient descent (SGD) implementation"
   ]
  },
  {
   "cell_type": "code",
   "execution_count": 22,
   "id": "7968b790",
   "metadata": {},
   "outputs": [],
   "source": [
    "'''Build a model using SCD for optimization'''\n",
    "def model(X, Y, n_h, num_iterations = 10000, print_cost=False):\n",
    "    np.random.seed(40)\n",
    "    n_x, n_h, n_y = layer_shapes(X,Y, n_h)\n",
    "    #initialize the parameters\n",
    "    parameters = initialize_parameters(n_x, n_h, n_y)\n",
    "    #gradient descent\n",
    "    for i in range(0,num_iterations):\n",
    "        #Forward propagation\n",
    "        A2, cache = forward_propagation(X, parameters)\n",
    "        \n",
    "        #Cost function\n",
    "        cost = compute_cost(A2,Y)\n",
    "        \n",
    "        #Back Propagation\n",
    "        grads = back_propagation(parameters, cache, X, Y)\n",
    "        \n",
    "        #Gradient descent parameter update\n",
    "        parameters = update_parameters(parameters, grads, learning_rate =1.2)\n",
    "        \n",
    "        #Printing the cost every 1000 iterations\n",
    "        if print_cost and i % 1000 == 0:\n",
    "            print(\"Cost after iteration %i: %f\" % (i,cost))\n",
    "    \n",
    "    return parameters"
   ]
  },
  {
   "cell_type": "code",
   "execution_count": 23,
   "id": "4b67ea2d",
   "metadata": {},
   "outputs": [],
   "source": [
    "'''Making prediction using the trained model '''\n",
    "def predict(parameters, X):\n",
    "    A2, cache = forward_propagation(X, parameters) # Compute probabilities\n",
    "    threshold = 0.5\n",
    "    predictions = (A2 > threshold)\n",
    "    \n",
    "    return predictions"
   ]
  },
  {
   "cell_type": "code",
   "execution_count": 24,
   "id": "4387dfe7",
   "metadata": {},
   "outputs": [
    {
     "name": "stdout",
     "output_type": "stream",
     "text": [
      "Cost after iteration 0: 0.693146\n",
      "Cost after iteration 1000: 0.523457\n",
      "Cost after iteration 2000: 0.571849\n",
      "Cost after iteration 3000: 0.576572\n",
      "Cost after iteration 4000: 0.573179\n",
      "Cost after iteration 5000: 0.569069\n",
      "Cost after iteration 6000: 0.563645\n",
      "Cost after iteration 7000: 0.552592\n",
      "Cost after iteration 8000: 0.540972\n",
      "Cost after iteration 9000: 0.531064\n"
     ]
    }
   ],
   "source": [
    "'''Training the model'''\n",
    "parameters = model(X,Y, n_h=1, num_iterations=10000,print_cost=True)"
   ]
  },
  {
   "cell_type": "markdown",
   "id": "fc5b8fa0",
   "metadata": {},
   "source": [
    "#### Accuracy"
   ]
  },
  {
   "cell_type": "code",
   "execution_count": 25,
   "id": "7dfe663a",
   "metadata": {},
   "outputs": [
    {
     "name": "stdout",
     "output_type": "stream",
     "text": [
      "The Accuracy of the model is: 76%\n"
     ]
    }
   ],
   "source": [
    "'''Printing the Accuracy'''\n",
    "\n",
    "predictions = predict(parameters,X)\n",
    "print('The Accuracy of the model is: %d' % float((np.dot(Y, predictions.T) + np.dot(1-Y, 1-predictions.T))/float(Y.size)*100) + '%')"
   ]
  },
  {
   "cell_type": "markdown",
   "id": "c470ff7c",
   "metadata": {},
   "source": [
    "#### F1 Score"
   ]
  },
  {
   "cell_type": "code",
   "execution_count": 26,
   "id": "d406bb3d",
   "metadata": {},
   "outputs": [
    {
     "data": {
      "text/plain": [
       "0.6936790923824959"
      ]
     },
     "execution_count": 26,
     "metadata": {},
     "output_type": "execute_result"
    }
   ],
   "source": [
    "'''Calcualting the F1 Score'''\n",
    "\n",
    "def f1(y_true, y_pred):\n",
    "    TP = np.sum(np.multiply([i==True for i in y_pred], y_true))\n",
    "    TN = np.sum(np.multiply([i==False for i in y_pred], [not(j) for j in y_true]))\n",
    "    FP = np.sum(np.multiply([i==True for i in y_pred], [not(j) for j in y_true]))\n",
    "    FN = np.sum(np.multiply([i==False for i in y_pred], y_true))\n",
    "    precision = TP/(TP+FP)\n",
    "    recall = TP/(TP+FN)\n",
    "    if precision != 0 and recall != 0:\n",
    "        f1 = (2 * precision * recall) / (precision + recall)\n",
    "    else:\n",
    "        f1 = 0\n",
    "    return f1\n",
    "\n",
    "f1(Y[0],predictions[0])"
   ]
  },
  {
   "cell_type": "markdown",
   "id": "af8cc41f",
   "metadata": {},
   "source": [
    "## Regularization"
   ]
  },
  {
   "cell_type": "markdown",
   "id": "e2c6965b",
   "metadata": {},
   "source": [
    "### L1 (Lasso Regularization)"
   ]
  },
  {
   "cell_type": "code",
   "execution_count": 27,
   "id": "a0e9e2e1",
   "metadata": {},
   "outputs": [],
   "source": [
    "'''In L1 regularization, we add absolute value of magnitude of coefficient as penalty term to the loss function.'''\n",
    "\n",
    "def compute_cost(A2, Y):\n",
    "    \n",
    "    m = Y.shape[1] # number of example\n",
    "    \n",
    "    \n",
    "    # compute the regularization penalty\n",
    "    L1_regularization_penalty = np.sum(np.absolute(A2))\n",
    "\n",
    "\n",
    "    # Compute the cross-entropy cost\n",
    "    logprobs = np.dot(Y,np.log(A2).T) + np.dot((1-Y),np.log((1-A2)).T)\n",
    "    cost = -logprobs/m\n",
    "\n",
    "    cost = float(np.squeeze(cost))  # makes sure cost is the dimension we expect. E.g., turns [[17]] into 17 \n",
    "    assert(isinstance(cost, float))\n",
    "    \n",
    "    # compute the total cost\n",
    "    cost = cost + L1_regularization_penalty\n",
    "    \n",
    "    return cost"
   ]
  },
  {
   "cell_type": "markdown",
   "id": "e8798bdb",
   "metadata": {},
   "source": [
    "### L2 (Ridge Regullarization)"
   ]
  },
  {
   "cell_type": "code",
   "execution_count": 28,
   "id": "a943e212",
   "metadata": {},
   "outputs": [],
   "source": [
    "'''In L2 regularization, we add squared magnitude of coefficient as penalty term to the loss function.'''\n",
    "def compute_cost(A2, Y):\n",
    "    \n",
    "    m = Y.shape[1] # number of example\n",
    "    \n",
    "    \n",
    "    # compute the regularization penalty\n",
    "    L2_regularization_penalty = (\n",
    "        1 / (2 * m)) * np.sum(np.square(A2))\n",
    "\n",
    "\n",
    "    # Compute the cross-entropy cost\n",
    "    logprobs = np.dot(Y,np.log(A2).T) + np.dot((1-Y),np.log((1-A2)).T)\n",
    "    cost = -logprobs/m\n",
    "\n",
    "    cost = float(np.squeeze(cost))  # makes sure cost is the dimension we expect. E.g., turns [[17]] into 17 \n",
    "    assert(isinstance(cost, float))\n",
    "    \n",
    "    # compute the total cost\n",
    "    cost = cost + L2_regularization_penalty\n",
    "    \n",
    "    return cost"
   ]
  }
 ],
 "metadata": {
  "kernelspec": {
   "display_name": "Python 3 (ipykernel)",
   "language": "python",
   "name": "python3"
  },
  "language_info": {
   "codemirror_mode": {
    "name": "ipython",
    "version": 3
   },
   "file_extension": ".py",
   "mimetype": "text/x-python",
   "name": "python",
   "nbconvert_exporter": "python",
   "pygments_lexer": "ipython3",
   "version": "3.9.13"
  }
 },
 "nbformat": 4,
 "nbformat_minor": 5
}
